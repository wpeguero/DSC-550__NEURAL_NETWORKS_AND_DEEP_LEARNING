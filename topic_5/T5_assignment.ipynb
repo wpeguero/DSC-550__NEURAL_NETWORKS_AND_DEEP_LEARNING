{
 "cells": [
  {
   "cell_type": "markdown",
   "metadata": {},
   "source": [
    "# Topic 5 Assignment By Wilson Peguero Rosario\n",
    "\n",
    "## Problem Statement\n",
    "\n",
    "In this assignment, practical training issues are considered. There will be three basic issues addressed: the first describes things that need to be done prior to training a network, such as collecting and pre-processing data and selecting the network architecture; the second addresses network training itself; and the final considers post-training analysis. A case study is constructed for pattern recognition.\n",
    "\n",
    "Assume a produce dealer has a warehouse that stores a variety of fruits and vegetables. When fruit is brought to the warehouse, various types of fruit may be mixed. The dealer wants a machine that will sort the fruit according to type. There is a conveyor belt on which the fruit is loaded. This conveyor belt passes through a set of sensors, which measure three properties of the fruit: shape, texture, and weight. These sensors are somewhat primitive. The shape sensor will output a 1 if the fruit is approximately round and a -1 if it is more elliptical. The texture sensor will output a 1 if the surface of the fruit is smooth and a -1 if it is rough. The weight sensor will output a 1 if the fruit is more than one pound and a -1 if it is less than one pound. The three sensor outputs will then be input to a neural network. The purpose of the network is to decide which kind of fruit is on the conveyor, so that the fruit can be directed to the correct storage bin. To make the problem even simpler, assume that there are only two kinds of fruit on the conveyor belt: banana and pineapple.\n",
    "\n",
    "## Key Notes\n",
    "\n",
    "- Client Requires algorithm for sorting fruit according to type\n",
    "    - Categorical data based on whether the fruit is a citrus, etc.\n",
    "- Conveyor belt passes the fruit through a sensor which extracts three properties from the fruit\n",
    "    1. Shape\n",
    "        - output is binary (1 if the fruit is round, -1 if the fruit is elliptical)\n",
    "    2. Texture\n",
    "        - output is binary (1 if the fruit is smooth, -1 if the fruit is rough)\n",
    "    3. Weight\n",
    "        - output is binary (1 if the fruit is more than 1 lb, -1 if the fruit is less than 1 lb)\n",
    "- Assume that there are only two kinds of fruit on the conveyor belt\n",
    "    1. Banana (shape:-1, texture:1, weight:-1)\n",
    "    2. Pineapple (shape:-1, texture:-1, weight:1)"
   ]
  },
  {
   "cell_type": "code",
   "execution_count": 1,
   "metadata": {},
   "outputs": [],
   "source": [
    "import pandas as pd\n",
    "import tensorflow as tf\n",
    "import numpy as np\n",
    "from sklearn.model_selection import train_test_split\n",
    "import matplotlib.pyplot as plt\n"
   ]
  },
  {
   "cell_type": "markdown",
   "metadata": {},
   "source": [
    "## Data Collection/Preparation\n",
    "\n",
    "Now that the relevant libraries have been updated, one should be able to replicate the data necessary to develop the Neural Network. The average Pineapple weighs approximately 2 lbs, whereas a banana weighs less than half a pound. This makes it safe to assume that the weight feature will be consistent throughout the entirety of the data set (there will not be many pineapples whose weight is less than 1 lb and there will not be many bananas that weigh more than 1 lb). Texture is also an inherent feature of pineapples and bananas, meaning that a banana will always be smooth whereas a pineapple will always be rough. The feature with the most variation may be in the terms of shape for pineapples.\n",
    "\n",
    "To develop the data, numpy and pandas libraries were used to create random selection between the number 1 or -1 for each feature (shape, texture, and weight) and develop the data set."
   ]
  },
  {
   "cell_type": "code",
   "execution_count": 2,
   "metadata": {},
   "outputs": [],
   "source": [
    "list__dataset = []\n",
    "for _ in range(30000):\n",
    "    shape = np.random.choice([-1,1], replace=False)\n",
    "    texture = np.random.choice([-1,1], replace=False)\n",
    "    weight = np.random.choice([-1,1], replace=False)\n",
    "    if texture == 1 and shape == -1:\n",
    "        label = \"banana\"\n",
    "    elif texture == -1 or (texture == -1 and weight == 1):\n",
    "        label = \"pineapple\"\n",
    "    else:\n",
    "        label = \"banana\"\n",
    "    list__dataset.append({\"label\":label, \"shape\":shape, \"texture\":texture, \"weight\":weight})\n",
    "\n",
    "df__dataset = pd.DataFrame(list__dataset)"
   ]
  },
  {
   "cell_type": "markdown",
   "metadata": {},
   "source": [
    "## Data Exploration\n",
    "\n",
    "Now that the data has been collected and formatted into the version apt for developing algorithms, it can be explored and some analytics can be taken from the data set."
   ]
  },
  {
   "cell_type": "code",
   "execution_count": 3,
   "metadata": {},
   "outputs": [
    {
     "data": {
      "text/html": [
       "<div>\n",
       "<style scoped>\n",
       "    .dataframe tbody tr th:only-of-type {\n",
       "        vertical-align: middle;\n",
       "    }\n",
       "\n",
       "    .dataframe tbody tr th {\n",
       "        vertical-align: top;\n",
       "    }\n",
       "\n",
       "    .dataframe thead th {\n",
       "        text-align: right;\n",
       "    }\n",
       "</style>\n",
       "<table border=\"1\" class=\"dataframe\">\n",
       "  <thead>\n",
       "    <tr style=\"text-align: right;\">\n",
       "      <th></th>\n",
       "      <th>shape</th>\n",
       "      <th>texture</th>\n",
       "      <th>weight</th>\n",
       "    </tr>\n",
       "  </thead>\n",
       "  <tbody>\n",
       "    <tr>\n",
       "      <th>count</th>\n",
       "      <td>30000.000000</td>\n",
       "      <td>30000.000000</td>\n",
       "      <td>30000.000000</td>\n",
       "    </tr>\n",
       "    <tr>\n",
       "      <th>mean</th>\n",
       "      <td>-0.014467</td>\n",
       "      <td>-0.006000</td>\n",
       "      <td>-0.004067</td>\n",
       "    </tr>\n",
       "    <tr>\n",
       "      <th>std</th>\n",
       "      <td>0.999912</td>\n",
       "      <td>0.999999</td>\n",
       "      <td>1.000008</td>\n",
       "    </tr>\n",
       "    <tr>\n",
       "      <th>min</th>\n",
       "      <td>-1.000000</td>\n",
       "      <td>-1.000000</td>\n",
       "      <td>-1.000000</td>\n",
       "    </tr>\n",
       "    <tr>\n",
       "      <th>25%</th>\n",
       "      <td>-1.000000</td>\n",
       "      <td>-1.000000</td>\n",
       "      <td>-1.000000</td>\n",
       "    </tr>\n",
       "    <tr>\n",
       "      <th>50%</th>\n",
       "      <td>-1.000000</td>\n",
       "      <td>-1.000000</td>\n",
       "      <td>-1.000000</td>\n",
       "    </tr>\n",
       "    <tr>\n",
       "      <th>75%</th>\n",
       "      <td>1.000000</td>\n",
       "      <td>1.000000</td>\n",
       "      <td>1.000000</td>\n",
       "    </tr>\n",
       "    <tr>\n",
       "      <th>max</th>\n",
       "      <td>1.000000</td>\n",
       "      <td>1.000000</td>\n",
       "      <td>1.000000</td>\n",
       "    </tr>\n",
       "  </tbody>\n",
       "</table>\n",
       "</div>"
      ],
      "text/plain": [
       "              shape       texture        weight\n",
       "count  30000.000000  30000.000000  30000.000000\n",
       "mean      -0.014467     -0.006000     -0.004067\n",
       "std        0.999912      0.999999      1.000008\n",
       "min       -1.000000     -1.000000     -1.000000\n",
       "25%       -1.000000     -1.000000     -1.000000\n",
       "50%       -1.000000     -1.000000     -1.000000\n",
       "75%        1.000000      1.000000      1.000000\n",
       "max        1.000000      1.000000      1.000000"
      ]
     },
     "execution_count": 3,
     "metadata": {},
     "output_type": "execute_result"
    }
   ],
   "source": [
    "df__dataset.describe()"
   ]
  },
  {
   "cell_type": "markdown",
   "metadata": {},
   "source": [
    "From the above, one is able to tell immediately that majority of the samples within the data set belong to the pineapples as the mean texture value is negative. There are indications that out of the fruits, most weigh more than 1 lb and their shape is mostly round. One can confirm this by running a summary of the labels (shown below)."
   ]
  },
  {
   "cell_type": "code",
   "execution_count": 4,
   "metadata": {},
   "outputs": [
    {
     "data": {
      "text/plain": [
       "pineapple    15090\n",
       "banana       14910\n",
       "Name: label, dtype: int64"
      ]
     },
     "execution_count": 4,
     "metadata": {},
     "output_type": "execute_result"
    }
   ],
   "source": [
    "df__dataset['label'].value_counts()"
   ]
  },
  {
   "cell_type": "markdown",
   "metadata": {},
   "source": [
    "Now one can create a copy of the original data set and exchange the values based on the table below:\n",
    "\n",
    "| Feature | Value | Definition |\n",
    "|---------|-------|------------|\n",
    "| Shape   | -1    | Elliptical |\n",
    "| Shape   |  1    | Round      |\n",
    "| Texture | -1    | Rough      |\n",
    "| Texture |  1    | Smooth     |\n",
    "| Weight  | -1    | <1 lb      |\n",
    "| Weight  |  1    | >1 lb      |"
   ]
  },
  {
   "cell_type": "code",
   "execution_count": 5,
   "metadata": {},
   "outputs": [
    {
     "data": {
      "text/html": [
       "<div>\n",
       "<style scoped>\n",
       "    .dataframe tbody tr th:only-of-type {\n",
       "        vertical-align: middle;\n",
       "    }\n",
       "\n",
       "    .dataframe tbody tr th {\n",
       "        vertical-align: top;\n",
       "    }\n",
       "\n",
       "    .dataframe thead th {\n",
       "        text-align: right;\n",
       "    }\n",
       "</style>\n",
       "<table border=\"1\" class=\"dataframe\">\n",
       "  <thead>\n",
       "    <tr style=\"text-align: right;\">\n",
       "      <th></th>\n",
       "      <th>label</th>\n",
       "      <th>shape</th>\n",
       "      <th>texture</th>\n",
       "      <th>weight</th>\n",
       "    </tr>\n",
       "  </thead>\n",
       "  <tbody>\n",
       "    <tr>\n",
       "      <th>0</th>\n",
       "      <td>pineapple</td>\n",
       "      <td>Round</td>\n",
       "      <td>Rough</td>\n",
       "      <td>&gt;1 lb</td>\n",
       "    </tr>\n",
       "    <tr>\n",
       "      <th>1</th>\n",
       "      <td>banana</td>\n",
       "      <td>Round</td>\n",
       "      <td>Smooth</td>\n",
       "      <td>&gt;1 lb</td>\n",
       "    </tr>\n",
       "    <tr>\n",
       "      <th>2</th>\n",
       "      <td>pineapple</td>\n",
       "      <td>Round</td>\n",
       "      <td>Rough</td>\n",
       "      <td>&gt;1 lb</td>\n",
       "    </tr>\n",
       "    <tr>\n",
       "      <th>3</th>\n",
       "      <td>pineapple</td>\n",
       "      <td>Round</td>\n",
       "      <td>Rough</td>\n",
       "      <td>&gt;1 lb</td>\n",
       "    </tr>\n",
       "    <tr>\n",
       "      <th>4</th>\n",
       "      <td>banana</td>\n",
       "      <td>Elliptical</td>\n",
       "      <td>Smooth</td>\n",
       "      <td>&lt;1 lb</td>\n",
       "    </tr>\n",
       "    <tr>\n",
       "      <th>5</th>\n",
       "      <td>pineapple</td>\n",
       "      <td>Round</td>\n",
       "      <td>Rough</td>\n",
       "      <td>&gt;1 lb</td>\n",
       "    </tr>\n",
       "    <tr>\n",
       "      <th>6</th>\n",
       "      <td>pineapple</td>\n",
       "      <td>Elliptical</td>\n",
       "      <td>Rough</td>\n",
       "      <td>&gt;1 lb</td>\n",
       "    </tr>\n",
       "    <tr>\n",
       "      <th>7</th>\n",
       "      <td>pineapple</td>\n",
       "      <td>Round</td>\n",
       "      <td>Rough</td>\n",
       "      <td>&lt;1 lb</td>\n",
       "    </tr>\n",
       "    <tr>\n",
       "      <th>8</th>\n",
       "      <td>pineapple</td>\n",
       "      <td>Elliptical</td>\n",
       "      <td>Rough</td>\n",
       "      <td>&gt;1 lb</td>\n",
       "    </tr>\n",
       "    <tr>\n",
       "      <th>9</th>\n",
       "      <td>banana</td>\n",
       "      <td>Elliptical</td>\n",
       "      <td>Smooth</td>\n",
       "      <td>&lt;1 lb</td>\n",
       "    </tr>\n",
       "  </tbody>\n",
       "</table>\n",
       "</div>"
      ],
      "text/plain": [
       "       label       shape texture weight\n",
       "0  pineapple       Round   Rough  >1 lb\n",
       "1     banana       Round  Smooth  >1 lb\n",
       "2  pineapple       Round   Rough  >1 lb\n",
       "3  pineapple       Round   Rough  >1 lb\n",
       "4     banana  Elliptical  Smooth  <1 lb\n",
       "5  pineapple       Round   Rough  >1 lb\n",
       "6  pineapple  Elliptical   Rough  >1 lb\n",
       "7  pineapple       Round   Rough  <1 lb\n",
       "8  pineapple  Elliptical   Rough  >1 lb\n",
       "9     banana  Elliptical  Smooth  <1 lb"
      ]
     },
     "execution_count": 5,
     "metadata": {},
     "output_type": "execute_result"
    }
   ],
   "source": [
    "\n",
    "df__data_copy = df__dataset.copy()\n",
    "df__data_copy['shape'].replace({1:\"Round\",-1:\"Elliptical\"}, inplace=True)\n",
    "df__data_copy['texture'].replace({1:\"Smooth\",-1:\"Rough\"}, inplace=True)\n",
    "df__data_copy['weight'].replace({1:\">1 lb\",-1:\"<1 lb\"}, inplace=True)\n",
    "df__data_copy.head(10)"
   ]
  },
  {
   "cell_type": "markdown",
   "metadata": {},
   "source": [
    "Now that the data set has been converted to a more readable format, crosstabs can be created to estimate how many round/elliptical bananas there are vs pineapples. The same can be done for the other features as well."
   ]
  },
  {
   "cell_type": "code",
   "execution_count": 6,
   "metadata": {},
   "outputs": [
    {
     "data": {
      "text/html": [
       "<div>\n",
       "<style scoped>\n",
       "    .dataframe tbody tr th:only-of-type {\n",
       "        vertical-align: middle;\n",
       "    }\n",
       "\n",
       "    .dataframe tbody tr th {\n",
       "        vertical-align: top;\n",
       "    }\n",
       "\n",
       "    .dataframe thead th {\n",
       "        text-align: right;\n",
       "    }\n",
       "</style>\n",
       "<table border=\"1\" class=\"dataframe\">\n",
       "  <thead>\n",
       "    <tr style=\"text-align: right;\">\n",
       "      <th>weight</th>\n",
       "      <th>&lt;1 lb</th>\n",
       "      <th>&gt;1 lb</th>\n",
       "    </tr>\n",
       "    <tr>\n",
       "      <th>label</th>\n",
       "      <th></th>\n",
       "      <th></th>\n",
       "    </tr>\n",
       "  </thead>\n",
       "  <tbody>\n",
       "    <tr>\n",
       "      <th>banana</th>\n",
       "      <td>7472</td>\n",
       "      <td>7438</td>\n",
       "    </tr>\n",
       "    <tr>\n",
       "      <th>pineapple</th>\n",
       "      <td>7589</td>\n",
       "      <td>7501</td>\n",
       "    </tr>\n",
       "  </tbody>\n",
       "</table>\n",
       "</div>"
      ],
      "text/plain": [
       "weight     <1 lb  >1 lb\n",
       "label                  \n",
       "banana      7472   7438\n",
       "pineapple   7589   7501"
      ]
     },
     "execution_count": 6,
     "metadata": {},
     "output_type": "execute_result"
    }
   ],
   "source": [
    "\n",
    "ct01 = pd.crosstab(df__data_copy['label'], df__data_copy['weight'])\n",
    "ct01"
   ]
  },
  {
   "cell_type": "code",
   "execution_count": 7,
   "metadata": {},
   "outputs": [
    {
     "data": {
      "text/html": [
       "<div>\n",
       "<style scoped>\n",
       "    .dataframe tbody tr th:only-of-type {\n",
       "        vertical-align: middle;\n",
       "    }\n",
       "\n",
       "    .dataframe tbody tr th {\n",
       "        vertical-align: top;\n",
       "    }\n",
       "\n",
       "    .dataframe thead th {\n",
       "        text-align: right;\n",
       "    }\n",
       "</style>\n",
       "<table border=\"1\" class=\"dataframe\">\n",
       "  <thead>\n",
       "    <tr style=\"text-align: right;\">\n",
       "      <th>texture</th>\n",
       "      <th>Rough</th>\n",
       "      <th>Smooth</th>\n",
       "    </tr>\n",
       "    <tr>\n",
       "      <th>label</th>\n",
       "      <th></th>\n",
       "      <th></th>\n",
       "    </tr>\n",
       "  </thead>\n",
       "  <tbody>\n",
       "    <tr>\n",
       "      <th>banana</th>\n",
       "      <td>0</td>\n",
       "      <td>14910</td>\n",
       "    </tr>\n",
       "    <tr>\n",
       "      <th>pineapple</th>\n",
       "      <td>15090</td>\n",
       "      <td>0</td>\n",
       "    </tr>\n",
       "  </tbody>\n",
       "</table>\n",
       "</div>"
      ],
      "text/plain": [
       "texture    Rough  Smooth\n",
       "label                   \n",
       "banana         0   14910\n",
       "pineapple  15090       0"
      ]
     },
     "execution_count": 7,
     "metadata": {},
     "output_type": "execute_result"
    }
   ],
   "source": [
    "ct02 = pd.crosstab(df__data_copy['label'], df__data_copy['texture'])\n",
    "ct02"
   ]
  },
  {
   "cell_type": "code",
   "execution_count": 8,
   "metadata": {},
   "outputs": [
    {
     "data": {
      "text/html": [
       "<div>\n",
       "<style scoped>\n",
       "    .dataframe tbody tr th:only-of-type {\n",
       "        vertical-align: middle;\n",
       "    }\n",
       "\n",
       "    .dataframe tbody tr th {\n",
       "        vertical-align: top;\n",
       "    }\n",
       "\n",
       "    .dataframe thead th {\n",
       "        text-align: right;\n",
       "    }\n",
       "</style>\n",
       "<table border=\"1\" class=\"dataframe\">\n",
       "  <thead>\n",
       "    <tr style=\"text-align: right;\">\n",
       "      <th>shape</th>\n",
       "      <th>Elliptical</th>\n",
       "      <th>Round</th>\n",
       "    </tr>\n",
       "    <tr>\n",
       "      <th>label</th>\n",
       "      <th></th>\n",
       "      <th></th>\n",
       "    </tr>\n",
       "  </thead>\n",
       "  <tbody>\n",
       "    <tr>\n",
       "      <th>banana</th>\n",
       "      <td>7586</td>\n",
       "      <td>7324</td>\n",
       "    </tr>\n",
       "    <tr>\n",
       "      <th>pineapple</th>\n",
       "      <td>7631</td>\n",
       "      <td>7459</td>\n",
       "    </tr>\n",
       "  </tbody>\n",
       "</table>\n",
       "</div>"
      ],
      "text/plain": [
       "shape      Elliptical  Round\n",
       "label                       \n",
       "banana           7586   7324\n",
       "pineapple        7631   7459"
      ]
     },
     "execution_count": 8,
     "metadata": {},
     "output_type": "execute_result"
    }
   ],
   "source": [
    "ct03 = pd.crosstab(df__data_copy['label'], df__data_copy['shape'])\n",
    "ct03"
   ]
  },
  {
   "cell_type": "markdown",
   "metadata": {},
   "source": [
    "Now that one has better insight upon the labels and its features, one can create a correlation matrix to observe the correlation between the features."
   ]
  },
  {
   "cell_type": "code",
   "execution_count": 9,
   "metadata": {},
   "outputs": [
    {
     "data": {
      "text/html": [
       "<style type=\"text/css\">\n",
       "#T_0dcd2_row0_col0, #T_0dcd2_row1_col1, #T_0dcd2_row2_col2 {\n",
       "  background-color: #b40426;\n",
       "  color: #f1f1f1;\n",
       "}\n",
       "#T_0dcd2_row0_col1, #T_0dcd2_row1_col0 {\n",
       "  background-color: #dcdddd;\n",
       "  color: #000000;\n",
       "}\n",
       "#T_0dcd2_row0_col2, #T_0dcd2_row1_col2, #T_0dcd2_row2_col0, #T_0dcd2_row2_col1 {\n",
       "  background-color: #dddcdc;\n",
       "  color: #000000;\n",
       "}\n",
       "</style>\n",
       "<table id=\"T_0dcd2_\">\n",
       "  <thead>\n",
       "    <tr>\n",
       "      <th class=\"blank level0\" >&nbsp;</th>\n",
       "      <th class=\"col_heading level0 col0\" >shape</th>\n",
       "      <th class=\"col_heading level0 col1\" >texture</th>\n",
       "      <th class=\"col_heading level0 col2\" >weight</th>\n",
       "    </tr>\n",
       "  </thead>\n",
       "  <tbody>\n",
       "    <tr>\n",
       "      <th id=\"T_0dcd2_level0_row0\" class=\"row_heading level0 row0\" >shape</th>\n",
       "      <td id=\"T_0dcd2_row0_col0\" class=\"data row0 col0\" >1.00</td>\n",
       "      <td id=\"T_0dcd2_row0_col1\" class=\"data row0 col1\" >-0.00</td>\n",
       "      <td id=\"T_0dcd2_row0_col2\" class=\"data row0 col2\" >0.00</td>\n",
       "    </tr>\n",
       "    <tr>\n",
       "      <th id=\"T_0dcd2_level0_row1\" class=\"row_heading level0 row1\" >texture</th>\n",
       "      <td id=\"T_0dcd2_row1_col0\" class=\"data row1 col0\" >-0.00</td>\n",
       "      <td id=\"T_0dcd2_row1_col1\" class=\"data row1 col1\" >1.00</td>\n",
       "      <td id=\"T_0dcd2_row1_col2\" class=\"data row1 col2\" >0.00</td>\n",
       "    </tr>\n",
       "    <tr>\n",
       "      <th id=\"T_0dcd2_level0_row2\" class=\"row_heading level0 row2\" >weight</th>\n",
       "      <td id=\"T_0dcd2_row2_col0\" class=\"data row2 col0\" >0.00</td>\n",
       "      <td id=\"T_0dcd2_row2_col1\" class=\"data row2 col1\" >0.00</td>\n",
       "      <td id=\"T_0dcd2_row2_col2\" class=\"data row2 col2\" >1.00</td>\n",
       "    </tr>\n",
       "  </tbody>\n",
       "</table>\n"
      ],
      "text/plain": [
       "<pandas.io.formats.style.Styler at 0x2becb3acaf0>"
      ]
     },
     "execution_count": 9,
     "metadata": {},
     "output_type": "execute_result"
    }
   ],
   "source": [
    "corr_matrix = df__dataset.corr()\n",
    "corr_matrix\\\n",
    "    .style\\\n",
    "        .background_gradient(cmap='coolwarm', axis=None, vmin=-1, vmax=1)\\\n",
    "            .format(precision=2)"
   ]
  },
  {
   "cell_type": "markdown",
   "metadata": {},
   "source": [
    "As can be observed, there is little to no correlation between the features (this is due to its binary/polar nature)."
   ]
  },
  {
   "cell_type": "markdown",
   "metadata": {},
   "source": [
    "## Data Modelling\n",
    "\n",
    "Now that one has finished exploring the data, it is time to develop the model. Based on its binary nature, one can develop either a hopfield neural network to classify the data. In this case, the hopfield neural network will not be used as this is meant to be an industrial grade model that predicts different kinds of fruits based on 3 features. In the case that one may wish to distinguish between more fruits than bananas and pineapples, one may experience a dramatic decrease in its ability to recall as well as its accuracy.\n",
    "\n",
    "Now, the data requires separating the data set between a training set and a testing set."
   ]
  },
  {
   "cell_type": "code",
   "execution_count": 10,
   "metadata": {},
   "outputs": [
    {
     "name": "stdout",
     "output_type": "stream",
     "text": [
      "The shape of the training data set is (21000, 3).\n",
      "The shape of the test data set is (9000, 3).\n"
     ]
    }
   ],
   "source": [
    "df__dataset['label'].replace({\"banana\":0, \"pineapple\":1}, inplace=True)\n",
    "X_train,X_test,y_train,y_test = train_test_split(df__dataset.drop('label', axis=1), df__dataset['label'], test_size=0.3, random_state=42)\n",
    "X_train = np.array(X_train)\n",
    "y_train = tf.one_hot(y_train, depth=2)\n",
    "y_test = tf.one_hot(y_test, depth=2)\n",
    "print(f\"The shape of the training data set is {X_train.shape}.\\nThe shape of the test data set is {X_test.shape}.\")"
   ]
  },
  {
   "cell_type": "markdown",
   "metadata": {},
   "source": [
    "Now that the data has been separated into its test and train data set, a machine learning model can be used for classification."
   ]
  },
  {
   "cell_type": "code",
   "execution_count": 11,
   "metadata": {},
   "outputs": [],
   "source": [
    "model = tf.keras.models.Sequential([\n",
    "    tf.keras.layers.Flatten(input_shape=(3,1)),\n",
    "    tf.keras.layers.Dense(3, activation='sigmoid'),\n",
    "    tf.keras.layers.Dropout(0.3),\n",
    "    tf.keras.layers.Dense(2, activation= 'softmax'),\n",
    "])\n"
   ]
  },
  {
   "cell_type": "code",
   "execution_count": 12,
   "metadata": {},
   "outputs": [
    {
     "name": "stdout",
     "output_type": "stream",
     "text": [
      "Epoch 1/10\n",
      "657/657 [==============================] - 7s 9ms/step - loss: 0.7244 - Accuracy: 0.4750 - recall: 0.4749 - precision: 0.4750 - tp: 9973.0000 - tn: 9976.0000 - auc: 0.4510\n",
      "Epoch 2/10\n",
      "657/657 [==============================] - 6s 9ms/step - loss: 0.5984 - Accuracy: 0.7501 - recall: 0.7501 - precision: 0.7501 - tp: 15752.0000 - tn: 15752.0000 - auc: 0.8497\n",
      "Epoch 3/10\n",
      "657/657 [==============================] - 6s 9ms/step - loss: 0.3790 - Accuracy: 0.8714 - recall: 0.8714 - precision: 0.8714 - tp: 18300.0000 - tn: 18300.0000 - auc: 0.9686\n",
      "Epoch 4/10\n",
      "657/657 [==============================] - 6s 9ms/step - loss: 0.2549 - Accuracy: 0.9505 - recall: 0.9505 - precision: 0.9505 - tp: 19960.0000 - tn: 19960.0000 - auc: 0.9843\n",
      "Epoch 5/10\n",
      "657/657 [==============================] - 6s 10ms/step - loss: 0.1954 - Accuracy: 0.9554 - recall: 0.9554 - precision: 0.9554 - tp: 20063.0000 - tn: 20063.0000 - auc: 0.9849\n",
      "Epoch 6/10\n",
      "657/657 [==============================] - 7s 10ms/step - loss: 0.1656 - Accuracy: 0.9541 - recall: 0.9541 - precision: 0.9541 - tp: 20036.0000 - tn: 20036.0000 - auc: 0.9845\n",
      "Epoch 7/10\n",
      "657/657 [==============================] - 6s 9ms/step - loss: 0.1500 - Accuracy: 0.9538 - recall: 0.9538 - precision: 0.9538 - tp: 20030.0000 - tn: 20030.0000 - auc: 0.9840\n",
      "Epoch 8/10\n",
      "657/657 [==============================] - 6s 9ms/step - loss: 0.1365 - Accuracy: 0.9549 - recall: 0.9549 - precision: 0.9549 - tp: 20053.0000 - tn: 20053.0000 - auc: 0.9843\n",
      "Epoch 9/10\n",
      "657/657 [==============================] - 7s 10ms/step - loss: 0.1276 - Accuracy: 0.9553 - recall: 0.9553 - precision: 0.9553 - tp: 20061.0000 - tn: 20061.0000 - auc: 0.9845\n",
      "Epoch 10/10\n",
      "657/657 [==============================] - 7s 10ms/step - loss: 0.1224 - Accuracy: 0.9541 - recall: 0.9541 - precision: 0.9541 - tp: 20037.0000 - tn: 20037.0000 - auc: 0.9842\n"
     ]
    },
    {
     "data": {
      "text/plain": [
       "<keras.callbacks.History at 0x2bed2698f10>"
      ]
     },
     "execution_count": 12,
     "metadata": {},
     "output_type": "execute_result"
    }
   ],
   "source": [
    "loss_fn = tf.keras.losses.BinaryCrossentropy(from_logits=False)\n",
    "\n",
    "metrics = [\n",
    "    'Accuracy',\n",
    "    tf.keras.metrics.Recall(),\n",
    "    tf.keras.metrics.Precision(),\n",
    "    tf.keras.metrics.TruePositives(name=\"tp\"),\n",
    "    tf.keras.metrics.TrueNegatives(name='tn'),\n",
    "    tf.keras.metrics.AUC()\n",
    "]\n",
    "model.compile(\n",
    "    optimizer='adam',\n",
    "    loss=loss_fn,\n",
    "    metrics=metrics\n",
    ")\n",
    "\n",
    "model.fit(X_train, y_train, epochs=10)"
   ]
  },
  {
   "cell_type": "markdown",
   "metadata": {},
   "source": [
    "Although the model has been created, there is still one more step to extract the classification. As shown earlier on, the pineapples can be considered to be classified as 1, whereas bananas can be considered to be classified as 0."
   ]
  },
  {
   "cell_type": "code",
   "execution_count": 13,
   "metadata": {},
   "outputs": [
    {
     "name": "stdout",
     "output_type": "stream",
     "text": [
      "1/1 [==============================] - 0s 60ms/step\n"
     ]
    },
    {
     "data": {
      "text/plain": [
       "'pineapple'"
      ]
     },
     "execution_count": 13,
     "metadata": {},
     "output_type": "execute_result"
    }
   ],
   "source": [
    "def classify(fshape, ftexture, fweight, model=model):\n",
    "    prediction = model.predict(np.array([[fshape, ftexture, fweight]]))\n",
    "    fnum = np.argmax(prediction)\n",
    "    if fnum == 0:\n",
    "        fclass = \"banana\"\n",
    "    elif fnum == 1:\n",
    "        fclass = \"pineapple\"\n",
    "    return fclass\n",
    "\n",
    "classify(1,-1,1)\n"
   ]
  },
  {
   "cell_type": "code",
   "execution_count": 14,
   "metadata": {},
   "outputs": [
    {
     "data": {
      "image/png": "[encoded data removed]",
      "text/plain": [
       "<IPython.core.display.Image object>"
      ]
     },
     "execution_count": 14,
     "metadata": {},
     "output_type": "execute_result"
    }
   ],
   "source": [
    "tf.keras.utils.plot_model(model, show_shapes=True, rankdir='LR')"
   ]
  },
  {
   "cell_type": "markdown",
   "metadata": {},
   "source": [
    "As shown above, the neural network possesses 3 input nodes, 1 hidden layers each with three nodes and an output of two which will indicate whether the fruit is a pineapple or a banana. The Flatten layer converts the input into a 1D array while the Dropout Layer in tensorflow is used only during the training step and is meant to prevent overfitting while training the model. A summary of the model can be seen below:"
   ]
  },
  {
   "cell_type": "code",
   "execution_count": 16,
   "metadata": {},
   "outputs": [
    {
     "name": "stdout",
     "output_type": "stream",
     "text": [
      "Model: \"sequential\"\n",
      "_________________________________________________________________\n",
      " Layer (type)                Output Shape              Param #   \n",
      "=================================================================\n",
      " flatten (Flatten)           (None, 3)                 0         \n",
      "                                                                 \n",
      " dense (Dense)               (None, 3)                 12        \n",
      "                                                                 \n",
      " dropout (Dropout)           (None, 3)                 0         \n",
      "                                                                 \n",
      " dense_1 (Dense)             (None, 2)                 8         \n",
      "                                                                 \n",
      "=================================================================\n",
      "Total params: 20\n",
      "Trainable params: 20\n",
      "Non-trainable params: 0\n",
      "_________________________________________________________________\n"
     ]
    }
   ],
   "source": [
    "model.summary()"
   ]
  },
  {
   "cell_type": "markdown",
   "metadata": {},
   "source": [
    "Now that the neural network is able to appropriately classify, one can create a test that determines whether the neural network performs well."
   ]
  },
  {
   "cell_type": "code",
   "execution_count": 15,
   "metadata": {},
   "outputs": [
    {
     "name": "stdout",
     "output_type": "stream",
     "text": [
      "71/71 [==============================] - 1s 8ms/step - loss: 0.0137 - Accuracy: 1.0000 - recall: 1.0000 - precision: 1.0000 - tp: 9000.0000 - tn: 9000.0000 - auc: 1.0000\n"
     ]
    },
    {
     "data": {
      "text/plain": [
       "[0.01369396410882473, 1.0, 1.0, 1.0, 9000.0, 9000.0, 1.0]"
      ]
     },
     "execution_count": 15,
     "metadata": {},
     "output_type": "execute_result"
    }
   ],
   "source": [
    "def test(x_test, y_test, model=model):\n",
    "    evaluation = model.evaluate(x_test, y_test, batch_size=128)\n",
    "    return evaluation\n",
    "\n",
    "test(X_test,y_test)"
   ]
  },
  {
   "cell_type": "markdown",
   "metadata": {},
   "source": [
    "The test above was done using a series of random records that were chosen based on the function above. As shown by the resulting values, the model is very accurate at predicting whether the fruit in question is a pineapple or a banana is a matter of whether the fruit is rough or smooth (pineapples will always have a rough texture, whereas bananas will always have a smooth texture).\n",
    "\n",
    "## Proposition\n",
    "\n",
    "Automating this process is not very difficult, to supplement the introduction of new fruits into the model, one may want to create a form of data pipeline where the initial data or expected properties are introduced into the model which can be retrained everytime there is a new fruit introduced. Now a better idea may involve obtaining the exact weight, provide more variety selection of shape, and provide a new feature such as color. With this, one should be able to develop an unsupervised model, such as  a Kmeans model, that can categorize the fruit. Once the fruit is categorized, an employee may supply the appropriate name of the fruit based on the properties. "
   ]
  }
 ],
 "metadata": {
  "interpreter": {
   "hash": "381354fdf2db71db833037bd920d0e1d9b0c7ba1f03ade08c697116913672196"
  },
  "kernelspec": {
   "display_name": "Python 3.9.6 64-bit (system)",
   "language": "python",
   "name": "python3"
  },
  "language_info": {
   "codemirror_mode": {
    "name": "ipython",
    "version": 3
   },
   "file_extension": ".py",
   "mimetype": "text/x-python",
   "name": "python",
   "nbconvert_exporter": "python",
   "pygments_lexer": "ipython3",
   "version": "3.9.6"
  },
  "orig_nbformat": 4
 },
 "nbformat": 4,
 "nbformat_minor": 2
}
