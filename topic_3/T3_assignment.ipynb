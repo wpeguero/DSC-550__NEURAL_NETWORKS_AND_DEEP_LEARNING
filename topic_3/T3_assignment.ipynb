{
 "cells": [
  {
   "cell_type": "markdown",
   "metadata": {},
   "source": [
    "# DSC-550: Project 3\n",
    "## By Wilson Peguero Rosario\n",
    "Starting with a single neuron and with single layer of neurons, generate the transfer function of a multiple layer network. Examine the inside of the artificial neural network, devise a transfer function for each layer, briefly research how a topology can be obtained, analyze recurrent neural networks, and investigate forward propagation, cost function, and backward propagation.\n",
    "\n",
    "Using Python and the correspondent libraries, sketch the following responses (plot the indicated variable versus p for (-3 < p < 3))\n",
    "\n",
    "\n",
    "### Solution\n",
    "A neural network is a series of perceptrons that together function to achieve complex tasks by independently completing simple tasks. The topology of a neural network can be obtained by considering first how many inputs and outputs the neural network has as well as the number of nodes and the amount of hidden layers. From the image below, one can observe that the neural network below is composed of four total layers (an input layer, a hidden layer with two nodes, a one node hidden layer and an output layer).\n",
    "\n",
    "![neural_network](T3-neuralnetwork.png)\n",
    "\n",
    "*First start by importing the relevant libraries.*"
   ]
  },
  {
   "cell_type": "code",
   "execution_count": 8,
   "metadata": {},
   "outputs": [],
   "source": [
    "import matplotlib.pyplot as plt\n",
    "import numpy as np"
   ]
  },
  {
   "cell_type": "markdown",
   "metadata": {},
   "source": [
    "Now that the relevant libraries have been imported, one should be able to graphically show the saturating linear and the linear response."
   ]
  },
  {
   "cell_type": "code",
   "execution_count": 23,
   "metadata": {},
   "outputs": [
    {
     "data": {
      "image/png": "[encoded data removed]",
      "text/plain": [
       "<Figure size 432x288 with 2 Axes>"
      ]
     },
     "metadata": {
      "needs_background": "light"
     },
     "output_type": "display_data"
    }
   ],
   "source": [
    "p = np.arange(-2,3)\n",
    "\n",
    "y_sat = [0]\n",
    "for i in p:\n",
    "    if i < 0:\n",
    "        y_sat.append(0)\n",
    "    elif i >= 0 and i <=1:\n",
    "        y_sat.append(i*1)\n",
    "    elif i > 1:\n",
    "        y_sat.append(1)\n",
    "\n",
    "y_linear = p\n",
    "\n",
    "figure, axis = plt.subplots(2,1)\n",
    "axis[0].plot(p,y_sat)\n",
    "axis[0].set_title(\"Saturated Linear Transfer Function\")\n",
    "\n",
    "axis[1].plot(p,y_linear)\n",
    "axis[1].set_title(\"Linear Transfer Function\")\n",
    "plt.tight_layout()"
   ]
  },
  {
   "cell_type": "markdown",
   "metadata": {},
   "source": [
    "Now that we have the transfer functions, one should be able to obtain the following responses as well as plot them:\n",
    "1. n<sub>1</sub><sup>1</sup>\n",
    "1. n<sub>2</sub><sup>1</sup>\n",
    "1. a<sub>1</sub><sup>1</sup>\n",
    "1. a<sub>2</sub><sup>1</sup>\n",
    "1. n<sub>1</sub><sup>2</sup>\n",
    "1. a<sub>1</sub><sup>2</sup>\n"
   ]
  },
  {
   "cell_type": "code",
   "execution_count": 28,
   "metadata": {},
   "outputs": [
    {
     "name": "stdout",
     "output_type": "stream",
     "text": [
      "The output of the net function for the first node in the saturated linear layer is 2.\n",
      "The output of the net function for the second node in the saturated linear layer is -1.\n"
     ]
    }
   ],
   "source": [
    "weights1 = [2, 1]\n",
    "weights2 = [1, -1]\n",
    "bias1 = [2, -1]\n",
    "bias2 = [0]\n",
    "node1 = 0\n",
    "node2 = 0\n",
    "for i in p:\n",
    "    node1 += i * weights1[0]\n",
    "    node2 += i * weights1[1]\n",
    "\n",
    "node1 += bias1[0]\n",
    "node2 += bias1[1]\n",
    "\n",
    "print(\"The output of the net function for the first node in the saturated linear layer is {}.\".format(node1))\n",
    "print(\"The output of the net function for the second node in the saturated linear layer is {}.\".format(node2))\n"
   ]
  },
  {
   "cell_type": "markdown",
   "metadata": {},
   "source": [
    "Now that the net function results are out, one can use it as the input for the transfer function which yields the following result:\n",
    "1. n<sub>1</sub><sup>1</sup> = 2\n",
    "1. n<sub>2</sub><sup>1</sup> = -1\n",
    "1. a<sub>1</sub><sup>1</sup> = 1\n",
    "1. a<sub>2</sub><sup>1</sup> = 0\n",
    "\n",
    "Now that the output from the transfer functions have been obtained, one can obtain the out put of the last net function.\n"
   ]
  },
  {
   "cell_type": "code",
   "execution_count": 29,
   "metadata": {},
   "outputs": [
    {
     "name": "stdout",
     "output_type": "stream",
     "text": [
      "The output of the net function for the first node in the pure linear layer is 1.\n"
     ]
    }
   ],
   "source": [
    "new_inputs = [1, 0]\n",
    "\n",
    "last_net = bias2[0]\n",
    "last_net += new_inputs[0] * weights2[0]\n",
    "last_net += new_inputs[1] * weights2[1]\n",
    "\n",
    "print(\"The output of the net function for the first node in the pure linear layer is {}.\".format(last_net))"
   ]
  },
  {
   "cell_type": "markdown",
   "metadata": {},
   "source": [
    "The solution for the last outputs are below:\n",
    "1. n<sub>1</sub><sup>2</sup> = 1\n",
    "1. a<sub>1</sub><sup>2</sup> = 1"
   ]
  }
 ],
 "metadata": {
  "interpreter": {
   "hash": "381354fdf2db71db833037bd920d0e1d9b0c7ba1f03ade08c697116913672196"
  },
  "kernelspec": {
   "display_name": "Python 3.9.6 64-bit (system)",
   "language": "python",
   "name": "python3"
  },
  "language_info": {
   "codemirror_mode": {
    "name": "ipython",
    "version": 3
   },
   "file_extension": ".py",
   "mimetype": "text/x-python",
   "name": "python",
   "nbconvert_exporter": "python",
   "pygments_lexer": "ipython3",
   "version": "3.9.6"
  },
  "orig_nbformat": 4
 },
 "nbformat": 4,
 "nbformat_minor": 2
}
