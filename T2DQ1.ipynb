{
 "cells": [
  {
   "cell_type": "code",
   "execution_count": 2,
   "metadata": {},
   "outputs": [
    {
     "data": {
      "text/plain": [
       "'Digraph.gv.png'"
      ]
     },
     "execution_count": 2,
     "metadata": {},
     "output_type": "execute_result"
    }
   ],
   "source": [
    "# import module\n",
    "from graphviz import Digraph\n",
    "\n",
    "# instantiating object\n",
    "dot = Digraph(comment='Neural Network')\n",
    "\n",
    "# Adding nodes\n",
    "dot.node('A', 'Alex')\n",
    "dot.node('B', 'Rishu')\n",
    "dot.node('C', 'Mohe')\n",
    "dot.node('D', 'Satyam')\n",
    "\n",
    "# Adding edges\n",
    "dot.edges(['AB', 'AC', 'AD'])\n",
    "dot.edge('B', 'C', constraint = 'false')\n",
    "dot.edge('C', 'D', constraint = 'false')\n",
    "\n",
    "# saving source code\n",
    "dot.format = 'png'\n",
    "dot.view()\n",
    "\n"
   ]
  }
 ],
 "metadata": {
  "interpreter": {
   "hash": "381354fdf2db71db833037bd920d0e1d9b0c7ba1f03ade08c697116913672196"
  },
  "kernelspec": {
   "display_name": "Python 3.9.6 64-bit (system)",
   "language": "python",
   "name": "python3"
  },
  "language_info": {
   "codemirror_mode": {
    "name": "ipython",
    "version": 3
   },
   "file_extension": ".py",
   "mimetype": "text/x-python",
   "name": "python",
   "nbconvert_exporter": "python",
   "pygments_lexer": "ipython3",
   "version": "3.9.6"
  },
  "orig_nbformat": 4
 },
 "nbformat": 4,
 "nbformat_minor": 2
}
